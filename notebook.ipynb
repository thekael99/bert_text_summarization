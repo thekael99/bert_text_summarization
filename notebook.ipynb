{
 "cells": [
  {
   "cell_type": "code",
   "execution_count": 1,
   "metadata": {},
   "outputs": [],
   "source": [
    "from transformers import AutoTokenizer\n",
    "from transformers import WordpieceTokenizer"
   ]
  },
  {
   "cell_type": "code",
   "execution_count": 2,
   "metadata": {},
   "outputs": [
    {
     "name": "stderr",
     "output_type": "stream",
     "text": [
      "Downloading: 100%|██████████| 29.0/29.0 [00:00<00:00, 7.25kB/s]\n",
      "Downloading: 100%|██████████| 625/625 [00:00<00:00, 313kB/s]\n",
      "Downloading: 100%|██████████| 972k/972k [00:01<00:00, 602kB/s]  \n",
      "Downloading: 100%|██████████| 1.87M/1.87M [00:01<00:00, 1.05MB/s]\n"
     ]
    }
   ],
   "source": [
    "# tokenizer= AutoTokenizer.from_pretrained('FPTAI/vibert-base-cased')\n",
    "tokenizer = AutoTokenizer.from_pretrained(\"bert-base-multilingual-cased\")"
   ]
  },
  {
   "cell_type": "code",
   "execution_count": 13,
   "metadata": {},
   "outputs": [
    {
     "data": {
      "text/plain": [
       "0"
      ]
     },
     "execution_count": 13,
     "metadata": {},
     "output_type": "execute_result"
    }
   ],
   "source": [
    "tokenizer.add_special_tokens({\"additional_special_tokens\":[\"[unused0]\",\"[unused1]\",\"[unused2]\"]})\n",
    "tokenizer.add_special_tokens({\"bos_token\":\"[BOS]\"})\n",
    "tokenizer.add_special_tokens({\"eos_token\":\"[EOS]\"})\n",
    "tokenizer.add_special_tokens({\"sep_token\":\"[SEP]\"})\n",
    "tokenizer.add_special_tokens({\"pad_token\":\"[PAD]\"})\n",
    "tokenizer.add_special_tokens({\"cls_token\":\"[CLS]\"})\n",
    "tokenizer.add_special_tokens({\"mask_token\":\"[MASK]\"})"
   ]
  },
  {
   "cell_type": "code",
   "execution_count": 3,
   "metadata": {},
   "outputs": [],
   "source": [
    "wordpiece_tokenizer = WordpieceTokenizer(vocab=tokenizer.vocab, unk_token=tokenizer.unk_token)"
   ]
  },
  {
   "cell_type": "code",
   "execution_count": 4,
   "metadata": {},
   "outputs": [
    {
     "data": {
      "text/plain": [
       "{'unk_token': '[UNK]',\n",
       " 'sep_token': '[SEP]',\n",
       " 'pad_token': '[PAD]',\n",
       " 'cls_token': '[CLS]',\n",
       " 'mask_token': '[MASK]'}"
      ]
     },
     "execution_count": 4,
     "metadata": {},
     "output_type": "execute_result"
    }
   ],
   "source": [
    "tokenizer.special_tokens_map"
   ]
  },
  {
   "cell_type": "code",
   "execution_count": 5,
   "metadata": {},
   "outputs": [
    {
     "data": {
      "text/plain": [
       "transformers.models.bert.tokenization_bert_fast.BertTokenizerFast"
      ]
     },
     "execution_count": 5,
     "metadata": {},
     "output_type": "execute_result"
    }
   ],
   "source": [
    "type(tokenizer)"
   ]
  },
  {
   "cell_type": "code",
   "execution_count": 6,
   "metadata": {},
   "outputs": [
    {
     "data": {
      "text/plain": [
       "119547"
      ]
     },
     "execution_count": 6,
     "metadata": {},
     "output_type": "execute_result"
    }
   ],
   "source": [
    "len(tokenizer)"
   ]
  },
  {
   "cell_type": "code",
   "execution_count": 15,
   "metadata": {},
   "outputs": [],
   "source": [
    "text = \"Phòng cảnh_sát điều tra\""
   ]
  },
  {
   "cell_type": "code",
   "execution_count": 16,
   "metadata": {},
   "outputs": [
    {
     "data": {
      "text/plain": [
       "['Phòng', 'cảnh', '_', 'sát', 'điều', 'tra']"
      ]
     },
     "execution_count": 16,
     "metadata": {},
     "output_type": "execute_result"
    }
   ],
   "source": [
    "tokens = tokenizer.tokenize(text)\n",
    "tokens"
   ]
  },
  {
   "cell_type": "code",
   "execution_count": 17,
   "metadata": {},
   "outputs": [
    {
     "data": {
      "text/plain": [
       "[82419, 33266, 168, 25133, 16391, 11264]"
      ]
     },
     "execution_count": 17,
     "metadata": {},
     "output_type": "execute_result"
    }
   ],
   "source": [
    "ids = tokenizer.convert_tokens_to_ids(tokens)\n",
    "ids"
   ]
  },
  {
   "cell_type": "code",
   "execution_count": 18,
   "metadata": {},
   "outputs": [
    {
     "data": {
      "text/plain": [
       "['Phòng', 'cảnh', '_', 'sát', 'điều', 'tra']"
      ]
     },
     "execution_count": 18,
     "metadata": {},
     "output_type": "execute_result"
    }
   ],
   "source": [
    "tokenizer.convert_ids_to_tokens(ids)"
   ]
  },
  {
   "cell_type": "code",
   "execution_count": 68,
   "metadata": {},
   "outputs": [
    {
     "data": {
      "text/plain": [
       "['Phòng', 'cảnh', 'sát', 'điều', 'tra']"
      ]
     },
     "execution_count": 68,
     "metadata": {},
     "output_type": "execute_result"
    }
   ],
   "source": [
    "tokens = wordpiece_tokenizer.tokenize(text)\n",
    "tokens"
   ]
  },
  {
   "cell_type": "code",
   "execution_count": 63,
   "metadata": {},
   "outputs": [
    {
     "data": {
      "text/plain": [
       "['[unused0]', 'can', '##h', 'sat', '[unused2]']"
      ]
     },
     "execution_count": 63,
     "metadata": {},
     "output_type": "execute_result"
    }
   ],
   "source": [
    "tokens = tokenizer.tokenize(text)\n",
    "tokens"
   ]
  },
  {
   "cell_type": "code",
   "execution_count": 65,
   "metadata": {},
   "outputs": [
    {
     "data": {
      "text/plain": [
       "['[unused0]', 'Cảnh', 'sát', '[unused2]']"
      ]
     },
     "execution_count": 65,
     "metadata": {},
     "output_type": "execute_result"
    }
   ],
   "source": [
    "tokenizer.convert_tokens_to_string(tokens).split()"
   ]
  },
  {
   "cell_type": "code",
   "execution_count": 7,
   "metadata": {},
   "outputs": [
    {
     "data": {
      "text/plain": [
       "'[CLS] hãng tin ria novosti của nga dẫn nguồn tin từ trang almasry_alyoum hôm_qua 195 cho biết cách đây gần hai năm vào ngày 2692014 nữ tiếp_viên ezeddin_samar của egyptair đã đăng_tải một bức ảnh kỳ_lạ trên facebook cá_nhân của cô chỉ vài tháng trước khi cô xin vào làm tại hãng . [SEP] [CLS] trong bức ảnh này ezeddin_samar mặc đồng_phục của'"
      ]
     },
     "execution_count": 7,
     "metadata": {},
     "output_type": "execute_result"
    }
   ],
   "source": [
    "tokenizer.convert_tokens_to_string(tokenizer.convert_ids_to_tokens(ids))"
   ]
  },
  {
   "cell_type": "code",
   "execution_count": 18,
   "metadata": {},
   "outputs": [],
   "source": [
    "import pickle"
   ]
  },
  {
   "cell_type": "code",
   "execution_count": 19,
   "metadata": {},
   "outputs": [],
   "source": [
    "with open('bert_data/data.pkl', 'rb') as f:\n",
    "    data = pickle.load(f)"
   ]
  },
  {
   "cell_type": "code",
   "execution_count": 17,
   "metadata": {},
   "outputs": [],
   "source": [
    "# data[7][\"src\"]"
   ]
  },
  {
   "cell_type": "code",
   "execution_count": 51,
   "metadata": {},
   "outputs": [
    {
     "data": {
      "text/plain": [
       "'[CLS] sáng 20/10, [UNK] [UNK] [UNK] [UNK] tra [UNK] [UNK] [UNK] ma [UNK], công an [UNK] đắk lắk cho biết, đang tiếp tục điều tra, xử lý 21 nam nữ thanh niên tụ tập trong quán karaoke sử dụng ma tuý bị lực lượng công an phát hiện. [SEP] [CLS] trước đó, vào [UNK] 1h [UNK] 19/10, [UNK] công [UNK] của phòng [UNK] [UNK] [UNK] [UNK] [UNK] phòng [UNK] [UNK] cơ [UNK], công an [UNK] [UNK] [UNK] tiến hành [UNK] tra [UNK] karaoke galaxy [UNK] 391 [UNK] [UNK] vương, thị xã buôn [UNK], [UNK] [UNK] [UNK]. [SEP] [CLS] tại đây, tổ công tác phát hiện [UNK] 5 [UNK] đang hát. [SEP] [CLS] trong [UNK], 4 [UNK] hát có 22 thanh niên nam, [UNK] đang [UNK] [UNK] [UNK] phê ma [UNK], [UNK] [UNK] to [UNK] [UNK] [UNK]. [SEP] [CLS] thời điểm kiểm tra [UNK] 4 [UNK] hát [UNK], [UNK] công [UNK] thu [UNK] [UNK] tang [UNK] như : ma [UNK] [UNK], ketamin [UNK] [UNK] [UNK], [UNK] [UNK] [UNK] [UNK] [UNK]. [SEP] [CLS] lúc này, tổ công tác đã đưa các đối tượng trên [UNK] [UNK] [UNK] đa khoa tp. buôn ma [UNK], tỉnh đắk lắk [UNK] [UNK] tra. [SEP] [CLS] kết quả cho thấy, [UNK] 21 [UNK] [UNK] gồm 6 nữ và 15 nam dương [UNK] [UNK] [UNK] ma [UNK]. [SEP] [CLS] tại cơ quan công an, [UNK] [UNK] [UNK] khai [UNK] [UNK] mua [UNK] [UNK] ma [UNK] trên [UNK] [UNK] nhau đi [UNK] karaoke [UNK] [UNK] [UNK] [UNK] [UNK]. [SEP] [CLS] [UNK], vụ việc đang được [UNK] [UNK] [UNK] [UNK] tra [UNK] [UNK] [UNK] ma [UNK] công an [UNK] [UNK] [UNK] tiếp tục điều tra, [UNK] [UNK] theo quy [UNK] [UNK] [UNK] [UNK]. [SEP] [CLS] lực lượng công an phát hiện hàng chục nam nữ thanh niên đang phê ma tuý trong quán karaoke. [SEP]'"
      ]
     },
     "execution_count": 51,
     "metadata": {},
     "output_type": "execute_result"
    }
   ],
   "source": [
    "tokenizer.convert_tokens_to_string(tokenizer.convert_ids_to_tokens(data[7][\"src\"]))"
   ]
  },
  {
   "cell_type": "code",
   "execution_count": 72,
   "metadata": {},
   "outputs": [
    {
     "data": {
      "text/plain": [
       "'[CLS] ngày 25/3, trao đổi với pv báo người đưa tin, luật sư đặng thị vân thịnh [UNK] văn phòng luật sư kết nối, đồng thời là người bảo vệ quyền và lợi ích hợp pháp cho cháu bé 9 tuổi ở chương mỹ bị xâm hại cho hay, mới đây vksnd tp. hà nội đã phê chuẩn quyết định chuyển tội danh dâm ô với người dưới 16 tuổi do công an huyện chương mỹ khởi tố sang tội danh hiếp dâm người dưới 16 tuổi đối với bị can nguyễn trọng trình ( 31 tuổi, trú xã hoà chính, huyện chương mỹ ). [SEP] [CLS] liên quan đến quyết định phê chuẩn của vks về việc thay đổi quyết định khởi tố bị can, thay đổi tội danh, luật sư thịnh cho rằng việc làm này là rất kịp thời và phù hợp với quy định của pháp luật ; góp phần xoa dịu những nỗi đau mà bị hại và gia đình bị hại đã phải trải qua ; cũng như củng cố thêm niềm tin của quần chúng nhân dân vào các cơ quan tiến hành tố tụng, vào công lý. [SEP] [CLS] đồng thời qua đó cũng tạo sức răn đe, cảnh báo, là bài học lớn cho những đối tượng có tư tưởng, hành vi xâm hại trẻ em. [SEP] [CLS] là người bảo vệ cho cháu bé, lại là một người phụ nữ, luật sư thịnh rất thấu hiểu những nỗi đau mà cháu bé đang và có thể sẽ phải gánh chịu trong tương lai. [SEP] [CLS] cháu bé ở độ tuổi tâm sinh lý đang phát triển. [SEP] [CLS] hành vi mất nhân tính của bị can đã gây những ám ảnh khủng khiếp cho cháu bé không chỉ thời điểm hiện tại mà có thể sẽ còn đeo bám cháu đến những chuỗi ngày về sau. [SEP] [CLS] do vậy, luật sư thịnh cũng rất đau đáu, trăn trở về trường hợp của cháu bé, nếu cháu không kịp thời được sự quan tâm, động viên, chia sẻ, cảm thông của gia đình, bạn bè và xã hội thì sẽ dẫn đến những khủng hoảng về tâm lý cho cháu. [SEP] [CLS] đánh giá về tội danh của bị can, luật sư thịnh cho rằng : hành vi của trình dùng vũ lực đối với cháu ( có hậu quả là cháu bị gãy răng, rạn tay.. ) ; lợi dụng tình trạng không thể tự vệ được của cháu ( cháu là trẻ em, trong khi trình là một thanh niên to khoẻ ) để giao cấu hoặc thực hiện hành vi quan hệ tình dục khác ( hậu quả làm cháu bị rách màng trinh và thủng tầng sinh môn ) như vậy đã đầy đủ yếu tố để cấu thành tội hiếp dâm người dưới 16 tuổi. [SEP] [CLS] theo thông tin gia đình nạn nhân cung cấp, thời điểm cháu q. bị xâm hại mới được 9 tuổi, 5 tháng 20 ngày ( tức là dưới 10 tuổi ). [SEP] [CLS] chiếu theo quy định tại điều 142 bộ luật hình sự năm 2015, sửa đổi bổ sung năm 2017 về tội hiếp dâm người dưới 16 tuổi thì trình sẽ bị khởi tố ở khoản 3 điểm c là \" phạm tội đối với người dưới 10 tuổi [UNK]. [SEP] [CLS] [UNK] đối tượng phạm tội thuộc trường hợp này thì bị phạt tù 20 năm, tù chung thân hoặc tử hình [UNK], luật sư thịnh cho biết. [SEP] [CLS] bị can nguyễn trọng trình tại cơ quan công an. [SEP] [CLS] luật sư đặng thị vân thịnh [UNK] văn phòng luật sư kết nối [SEP]'"
      ]
     },
     "execution_count": 72,
     "metadata": {},
     "output_type": "execute_result"
    }
   ],
   "source": [
    "tokenizer.convert_tokens_to_string(tokenizer.convert_ids_to_tokens(data[9][\"src\"]))"
   ]
  },
  {
   "cell_type": "code",
   "execution_count": 10,
   "metadata": {},
   "outputs": [
    {
     "data": {
      "image/png": "[encoded data removed]",
      "text/plain": [
       "<Figure size 432x288 with 1 Axes>"
      ]
     },
     "metadata": {
      "needs_background": "light"
     },
     "output_type": "display_data"
    }
   ],
   "source": [
    "import matplotlib.pyplot as plt\n",
    "import numpy as np\n",
    "\n",
    "xent = [9.68, 7.33, 6.44, 5.94, 5.88, 5.85, 5.52, 5.53, 5.24, 5.11, 4.64, 4.64, 4.38, 4.34, 4.07, 4.25, 3.87, 4.08, 4.17, 3.86, 4.13, 3.7, 3.99, 3.78, 3.66, 3.41, 3.63, 3.57, 3.57, 3.45, 3.47, 3.59, 3.24, 3.16, 3.54 , 3.43, 3.29, 3.11, 3.21, 3.33, 3.03]\n",
    "t = np.arange(0, len(xent)*50, 50)\n",
    "\n",
    "fig, ax = plt.subplots()\n",
    "ax.plot(t, xent)\n",
    "\n",
    "ax.set(xlabel='Step', ylabel='xent (cross entropy)',\n",
    "       title='Loss Diagram')\n",
    "ax.grid()\n",
    "\n",
    "fig.savefig(\"test.png\")\n",
    "plt.show()"
   ]
  }
 ],
 "metadata": {
  "interpreter": {
   "hash": "ab6c89459f8f17ad2189cfde781e1db8ea16f167054b1a3268bd5f457fab4c73"
  },
  "kernelspec": {
   "display_name": "Python 3.7.9 64-bit",
   "language": "python",
   "name": "python3"
  },
  "language_info": {
   "codemirror_mode": {
    "name": "ipython",
    "version": 3
   },
   "file_extension": ".py",
   "mimetype": "text/x-python",
   "name": "python",
   "nbconvert_exporter": "python",
   "pygments_lexer": "ipython3",
   "version": "3.7.9"
  },
  "orig_nbformat": 4
 },
 "nbformat": 4,
 "nbformat_minor": 2
}
